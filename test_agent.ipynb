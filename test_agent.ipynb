{
 "cells": [
  {
   "cell_type": "markdown",
   "id": "d31bad58",
   "metadata": {},
   "source": [
    "# Your markdown here"
   ]
  },
  {
   "cell_type": "code",
   "execution_count": 1,
   "id": "79256a5a-1de1-4554-80de-1f218f9e0703",
   "metadata": {},
   "outputs": [
    {
     "name": "stdout",
     "output_type": "stream",
     "text": [
      "Requirement already satisfied: helper in /Users/monikavenckauskaite/Library/Caches/pypoetry/virtualenvs/agenticllm-hKNBN3eY-py3.9/lib/python3.9/site-packages (2.5.0)\n",
      "Requirement already satisfied: pyyaml in /Users/monikavenckauskaite/Library/Caches/pypoetry/virtualenvs/agenticllm-hKNBN3eY-py3.9/lib/python3.9/site-packages (from helper) (6.0.1)\n",
      "\n",
      "\u001b[1m[\u001b[0m\u001b[34;49mnotice\u001b[0m\u001b[1;39;49m]\u001b[0m\u001b[39;49m A new release of pip is available: \u001b[0m\u001b[31;49m23.1\u001b[0m\u001b[39;49m -> \u001b[0m\u001b[32;49m24.0\u001b[0m\n",
      "\u001b[1m[\u001b[0m\u001b[34;49mnotice\u001b[0m\u001b[1;39;49m]\u001b[0m\u001b[39;49m To update, run: \u001b[0m\u001b[32;49mpip install --upgrade pip\u001b[0m\n"
     ]
    }
   ],
   "source": [
    "!pip install helper"
   ]
  },
  {
   "cell_type": "code",
   "execution_count": 9,
   "id": "beaf8694-7fc3-4dbe-a7fe-8c5e229bfd7a",
   "metadata": {},
   "outputs": [
    {
     "ename": "ImportError",
     "evalue": "cannot import name 'get_openai_api_key' from 'helper' (/Users/monikavenckauskaite/Library/Caches/pypoetry/virtualenvs/agenticllm-hKNBN3eY-py3.9/lib/python3.9/site-packages/helper/__init__.py)",
     "output_type": "error",
     "traceback": [
      "\u001b[0;31m---------------------------------------------------------------------------\u001b[0m",
      "\u001b[0;31mImportError\u001b[0m                               Traceback (most recent call last)",
      "Cell \u001b[0;32mIn[9], line 1\u001b[0m\n\u001b[0;32m----> 1\u001b[0m \u001b[38;5;28;01mfrom\u001b[39;00m \u001b[38;5;21;01mhelper\u001b[39;00m \u001b[38;5;28;01mimport\u001b[39;00m get_openai_api_key\n\u001b[1;32m      3\u001b[0m OPENAI_API_KEY \u001b[38;5;241m=\u001b[39m get_openai_api_key()\n",
      "\u001b[0;31mImportError\u001b[0m: cannot import name 'get_openai_api_key' from 'helper' (/Users/monikavenckauskaite/Library/Caches/pypoetry/virtualenvs/agenticllm-hKNBN3eY-py3.9/lib/python3.9/site-packages/helper/__init__.py)"
     ]
    }
   ],
   "source": [
    "from helper import get_openai_api_key\n",
    "\n",
    "OPENAI_API_KEY = get_openai_api_key()"
   ]
  },
  {
   "cell_type": "code",
   "execution_count": null,
   "id": "5996557b-d983-43be-ac2a-6e5d8123c153",
   "metadata": {},
   "outputs": [],
   "source": []
  }
 ],
 "metadata": {
  "kernelspec": {
   "display_name": "Python 3 (ipykernel)",
   "language": "python",
   "name": "python3"
  },
  "language_info": {
   "codemirror_mode": {
    "name": "ipython",
    "version": 3
   },
   "file_extension": ".py",
   "mimetype": "text/x-python",
   "name": "python",
   "nbconvert_exporter": "python",
   "pygments_lexer": "ipython3",
   "version": "3.9.12"
  }
 },
 "nbformat": 4,
 "nbformat_minor": 5
}
